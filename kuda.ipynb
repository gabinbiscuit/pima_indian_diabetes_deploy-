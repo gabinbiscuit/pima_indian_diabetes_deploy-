{
 "cells": [
  {
   "cell_type": "code",
   "execution_count": 19,
   "metadata": {},
   "outputs": [],
   "source": [
    "import pickle\n",
    "import numpy as np\n",
    "import pandas as pd\n",
    "from sklearn.neighbors import KNeighborsClassifier\n",
    "from sklearn.naive_bayes import GaussianNB\n",
    "from sklearn.model_selection import train_test_split \n",
    "from sklearn.model_selection import cross_validate\n",
    "from sklearn.metrics import precision_recall_fscore_support\n",
    "from sklearn.metrics import accuracy_score\n",
    "from sklearn.metrics import recall_score\n",
    "from sklearn.metrics import precision_score\n",
    "from sklearn.metrics import f1_score\n",
    "from sklearn.metrics import confusion_matrix"
   ]
  },
  {
   "cell_type": "code",
   "execution_count": 20,
   "metadata": {},
   "outputs": [],
   "source": [
    "#Read CSV, index+1 supaya index dimulai dari 1, tidak 0, memudahkan pembacaan dataframe dibawah.\n",
    "df = pd.read_csv('diabetes.csv')\n",
    "df.index += 1"
   ]
  },
  {
   "cell_type": "code",
   "execution_count": 21,
   "metadata": {},
   "outputs": [
    {
     "data": {
      "text/html": [
       "<div>\n",
       "<style scoped>\n",
       "    .dataframe tbody tr th:only-of-type {\n",
       "        vertical-align: middle;\n",
       "    }\n",
       "\n",
       "    .dataframe tbody tr th {\n",
       "        vertical-align: top;\n",
       "    }\n",
       "\n",
       "    .dataframe thead th {\n",
       "        text-align: right;\n",
       "    }\n",
       "</style>\n",
       "<table border=\"1\" class=\"dataframe\">\n",
       "  <thead>\n",
       "    <tr style=\"text-align: right;\">\n",
       "      <th></th>\n",
       "      <th>preg</th>\n",
       "      <th>plas</th>\n",
       "      <th>pres</th>\n",
       "      <th>skin</th>\n",
       "      <th>test</th>\n",
       "      <th>mass</th>\n",
       "      <th>pedi</th>\n",
       "      <th>age</th>\n",
       "      <th>diabetes</th>\n",
       "    </tr>\n",
       "  </thead>\n",
       "  <tbody>\n",
       "    <tr>\n",
       "      <th>1</th>\n",
       "      <td>6</td>\n",
       "      <td>148</td>\n",
       "      <td>72</td>\n",
       "      <td>35</td>\n",
       "      <td>0</td>\n",
       "      <td>33.6</td>\n",
       "      <td>0.627</td>\n",
       "      <td>50</td>\n",
       "      <td>1</td>\n",
       "    </tr>\n",
       "    <tr>\n",
       "      <th>2</th>\n",
       "      <td>1</td>\n",
       "      <td>85</td>\n",
       "      <td>66</td>\n",
       "      <td>29</td>\n",
       "      <td>0</td>\n",
       "      <td>26.6</td>\n",
       "      <td>0.351</td>\n",
       "      <td>31</td>\n",
       "      <td>0</td>\n",
       "    </tr>\n",
       "    <tr>\n",
       "      <th>3</th>\n",
       "      <td>8</td>\n",
       "      <td>183</td>\n",
       "      <td>64</td>\n",
       "      <td>0</td>\n",
       "      <td>0</td>\n",
       "      <td>23.3</td>\n",
       "      <td>0.672</td>\n",
       "      <td>32</td>\n",
       "      <td>1</td>\n",
       "    </tr>\n",
       "    <tr>\n",
       "      <th>4</th>\n",
       "      <td>1</td>\n",
       "      <td>89</td>\n",
       "      <td>66</td>\n",
       "      <td>23</td>\n",
       "      <td>94</td>\n",
       "      <td>28.1</td>\n",
       "      <td>0.167</td>\n",
       "      <td>21</td>\n",
       "      <td>0</td>\n",
       "    </tr>\n",
       "    <tr>\n",
       "      <th>5</th>\n",
       "      <td>0</td>\n",
       "      <td>137</td>\n",
       "      <td>40</td>\n",
       "      <td>35</td>\n",
       "      <td>168</td>\n",
       "      <td>43.1</td>\n",
       "      <td>2.288</td>\n",
       "      <td>33</td>\n",
       "      <td>1</td>\n",
       "    </tr>\n",
       "  </tbody>\n",
       "</table>\n",
       "</div>"
      ],
      "text/plain": [
       "   preg  plas  pres  skin  test  mass   pedi  age  diabetes\n",
       "1     6   148    72    35     0  33.6  0.627   50         1\n",
       "2     1    85    66    29     0  26.6  0.351   31         0\n",
       "3     8   183    64     0     0  23.3  0.672   32         1\n",
       "4     1    89    66    23    94  28.1  0.167   21         0\n",
       "5     0   137    40    35   168  43.1  2.288   33         1"
      ]
     },
     "execution_count": 21,
     "metadata": {},
     "output_type": "execute_result"
    }
   ],
   "source": [
    "#melihat dataframe diabetes.csv\n",
    "df.head()"
   ]
  },
  {
   "cell_type": "code",
   "execution_count": 22,
   "metadata": {},
   "outputs": [],
   "source": [
    "#target / label. Kolom terakhir/kolom 'diabetes'.\n",
    "#mengambil dataframe untuk disimpan menjadi array. \n",
    "#np_target = df.iloc[:,-1:].values #alternatif\n",
    "np_target = df['diabetes'].values"
   ]
  },
  {
   "cell_type": "code",
   "execution_count": 23,
   "metadata": {},
   "outputs": [],
   "source": [
    "#Features. Mengambil kolom 1 - 8 dengan mengakses index. \n",
    "np_data = df.iloc[:,:-1].values"
   ]
  },
  {
   "cell_type": "code",
   "execution_count": 24,
   "metadata": {},
   "outputs": [],
   "source": [
    "#KNN\n",
    "knn_clf = KNeighborsClassifier(n_neighbors = 5)\n",
    "\n",
    "#Naive bayes\n",
    "nb_clf = GaussianNB()"
   ]
  },
  {
   "cell_type": "code",
   "execution_count": 25,
   "metadata": {},
   "outputs": [],
   "source": [
    "#Support Vector Classification model\n",
    "#clf = svm.SVC(kernel='linear', gamma=0.001, C=100)"
   ]
  },
  {
   "cell_type": "code",
   "execution_count": 26,
   "metadata": {},
   "outputs": [],
   "source": [
    "#Split dataset, 20% testing 80% training.\n",
    "X_train, X_test, y_train, y_test = train_test_split(np_data,np_target,test_size=0.2, random_state=None)"
   ]
  },
  {
   "cell_type": "code",
   "execution_count": 27,
   "metadata": {},
   "outputs": [
    {
     "data": {
      "text/plain": [
       "array([[  7.   , 150.   ,  78.   , ...,  35.2  ,   0.692,  54.   ],\n",
       "       [  0.   , 100.   ,  88.   , ...,  46.8  ,   0.962,  31.   ],\n",
       "       [  1.   ,  81.   ,  74.   , ...,  46.3  ,   1.096,  32.   ],\n",
       "       ...,\n",
       "       [ 11.   ,  85.   ,  74.   , ...,  30.1  ,   0.3  ,  35.   ],\n",
       "       [  5.   , 166.   ,  72.   , ...,  25.8  ,   0.587,  51.   ],\n",
       "       [  4.   , 115.   ,  72.   , ...,  28.9  ,   0.376,  46.   ]])"
      ]
     },
     "execution_count": 27,
     "metadata": {},
     "output_type": "execute_result"
    }
   ],
   "source": [
    "X_train"
   ]
  },
  {
   "cell_type": "code",
   "execution_count": 28,
   "metadata": {},
   "outputs": [
    {
     "data": {
      "text/plain": [
       "(614, 154)"
      ]
     },
     "execution_count": 28,
     "metadata": {},
     "output_type": "execute_result"
    }
   ],
   "source": [
    "#Cuma buat liat ukuran data train vs data test. imbalance \n",
    "len(X_train), len(X_test)"
   ]
  },
  {
   "cell_type": "code",
   "execution_count": 29,
   "metadata": {},
   "outputs": [
    {
     "data": {
      "text/plain": [
       "GaussianNB()"
      ]
     },
     "execution_count": 29,
     "metadata": {},
     "output_type": "execute_result"
    }
   ],
   "source": [
    "#Fit model SVM sesuai data training (proses training model)\n",
    "knn_clf.fit(X_train, y_train)\n",
    "nb_clf.fit(X_train, y_train)"
   ]
  },
  {
   "cell_type": "code",
   "execution_count": 30,
   "metadata": {},
   "outputs": [],
   "source": [
    "#CrossValidation model yang sudah dibangun. Dengan parameter scoring=accuracy,precision, dan recall\n",
    "scoring = ['accuracy', 'precision', 'recall']\n",
    "scores_knn = cross_validate(knn_clf, X_test, y_test, scoring=scoring, cv=5, return_train_score=True)\n",
    "scores_nb = cross_validate(nb_clf, X_test, y_test, scoring=scoring, cv=5, return_train_score=True)"
   ]
  },
  {
   "cell_type": "code",
   "execution_count": 35,
   "metadata": {},
   "outputs": [],
   "source": [
    "#Menampilkan hasil dari cross validation. recall yang sangat buruk KNN\n",
    "knn_score_df = pd.DataFrame.from_dict(scores_knn)\n",
    "nb_score_df = pd.DataFrame.from_dict(scores_nb)"
   ]
  },
  {
   "cell_type": "code",
   "execution_count": 36,
   "metadata": {},
   "outputs": [
    {
     "data": {
      "text/html": [
       "<div>\n",
       "<style scoped>\n",
       "    .dataframe tbody tr th:only-of-type {\n",
       "        vertical-align: middle;\n",
       "    }\n",
       "\n",
       "    .dataframe tbody tr th {\n",
       "        vertical-align: top;\n",
       "    }\n",
       "\n",
       "    .dataframe thead th {\n",
       "        text-align: right;\n",
       "    }\n",
       "</style>\n",
       "<table border=\"1\" class=\"dataframe\">\n",
       "  <thead>\n",
       "    <tr style=\"text-align: right;\">\n",
       "      <th></th>\n",
       "      <th>fit_time</th>\n",
       "      <th>score_time</th>\n",
       "      <th>test_accuracy</th>\n",
       "      <th>train_accuracy</th>\n",
       "      <th>test_precision</th>\n",
       "      <th>train_precision</th>\n",
       "      <th>test_recall</th>\n",
       "      <th>train_recall</th>\n",
       "    </tr>\n",
       "  </thead>\n",
       "  <tbody>\n",
       "    <tr>\n",
       "      <th>0</th>\n",
       "      <td>0.000000</td>\n",
       "      <td>0.002632</td>\n",
       "      <td>0.677419</td>\n",
       "      <td>0.829268</td>\n",
       "      <td>0.600000</td>\n",
       "      <td>0.788462</td>\n",
       "      <td>0.500000</td>\n",
       "      <td>0.803922</td>\n",
       "    </tr>\n",
       "    <tr>\n",
       "      <th>1</th>\n",
       "      <td>0.000997</td>\n",
       "      <td>0.002548</td>\n",
       "      <td>0.548387</td>\n",
       "      <td>0.829268</td>\n",
       "      <td>0.454545</td>\n",
       "      <td>0.837209</td>\n",
       "      <td>0.384615</td>\n",
       "      <td>0.720000</td>\n",
       "    </tr>\n",
       "    <tr>\n",
       "      <th>2</th>\n",
       "      <td>0.000000</td>\n",
       "      <td>0.002997</td>\n",
       "      <td>0.741935</td>\n",
       "      <td>0.796748</td>\n",
       "      <td>0.692308</td>\n",
       "      <td>0.820513</td>\n",
       "      <td>0.692308</td>\n",
       "      <td>0.640000</td>\n",
       "    </tr>\n",
       "    <tr>\n",
       "      <th>3</th>\n",
       "      <td>0.000990</td>\n",
       "      <td>0.001995</td>\n",
       "      <td>0.774194</td>\n",
       "      <td>0.788618</td>\n",
       "      <td>0.750000</td>\n",
       "      <td>0.760870</td>\n",
       "      <td>0.692308</td>\n",
       "      <td>0.700000</td>\n",
       "    </tr>\n",
       "    <tr>\n",
       "      <th>4</th>\n",
       "      <td>0.000998</td>\n",
       "      <td>0.001995</td>\n",
       "      <td>0.833333</td>\n",
       "      <td>0.766129</td>\n",
       "      <td>0.888889</td>\n",
       "      <td>0.739130</td>\n",
       "      <td>0.666667</td>\n",
       "      <td>0.666667</td>\n",
       "    </tr>\n",
       "  </tbody>\n",
       "</table>\n",
       "</div>"
      ],
      "text/plain": [
       "   fit_time  score_time  test_accuracy  train_accuracy  test_precision  \\\n",
       "0  0.000000    0.002632       0.677419        0.829268        0.600000   \n",
       "1  0.000997    0.002548       0.548387        0.829268        0.454545   \n",
       "2  0.000000    0.002997       0.741935        0.796748        0.692308   \n",
       "3  0.000990    0.001995       0.774194        0.788618        0.750000   \n",
       "4  0.000998    0.001995       0.833333        0.766129        0.888889   \n",
       "\n",
       "   train_precision  test_recall  train_recall  \n",
       "0         0.788462     0.500000      0.803922  \n",
       "1         0.837209     0.384615      0.720000  \n",
       "2         0.820513     0.692308      0.640000  \n",
       "3         0.760870     0.692308      0.700000  \n",
       "4         0.739130     0.666667      0.666667  "
      ]
     },
     "execution_count": 36,
     "metadata": {},
     "output_type": "execute_result"
    }
   ],
   "source": [
    "knn_score_df"
   ]
  },
  {
   "cell_type": "code",
   "execution_count": 37,
   "metadata": {},
   "outputs": [
    {
     "data": {
      "text/html": [
       "<div>\n",
       "<style scoped>\n",
       "    .dataframe tbody tr th:only-of-type {\n",
       "        vertical-align: middle;\n",
       "    }\n",
       "\n",
       "    .dataframe tbody tr th {\n",
       "        vertical-align: top;\n",
       "    }\n",
       "\n",
       "    .dataframe thead th {\n",
       "        text-align: right;\n",
       "    }\n",
       "</style>\n",
       "<table border=\"1\" class=\"dataframe\">\n",
       "  <thead>\n",
       "    <tr style=\"text-align: right;\">\n",
       "      <th></th>\n",
       "      <th>fit_time</th>\n",
       "      <th>score_time</th>\n",
       "      <th>test_accuracy</th>\n",
       "      <th>train_accuracy</th>\n",
       "      <th>test_precision</th>\n",
       "      <th>train_precision</th>\n",
       "      <th>test_recall</th>\n",
       "      <th>train_recall</th>\n",
       "    </tr>\n",
       "  </thead>\n",
       "  <tbody>\n",
       "    <tr>\n",
       "      <th>0</th>\n",
       "      <td>0.000997</td>\n",
       "      <td>0.000998</td>\n",
       "      <td>0.774194</td>\n",
       "      <td>0.813008</td>\n",
       "      <td>0.727273</td>\n",
       "      <td>0.818182</td>\n",
       "      <td>0.666667</td>\n",
       "      <td>0.705882</td>\n",
       "    </tr>\n",
       "    <tr>\n",
       "      <th>1</th>\n",
       "      <td>0.000998</td>\n",
       "      <td>0.000997</td>\n",
       "      <td>0.709677</td>\n",
       "      <td>0.821138</td>\n",
       "      <td>0.700000</td>\n",
       "      <td>0.791667</td>\n",
       "      <td>0.538462</td>\n",
       "      <td>0.760000</td>\n",
       "    </tr>\n",
       "    <tr>\n",
       "      <th>2</th>\n",
       "      <td>0.000998</td>\n",
       "      <td>0.000997</td>\n",
       "      <td>0.774194</td>\n",
       "      <td>0.813008</td>\n",
       "      <td>0.714286</td>\n",
       "      <td>0.800000</td>\n",
       "      <td>0.769231</td>\n",
       "      <td>0.720000</td>\n",
       "    </tr>\n",
       "    <tr>\n",
       "      <th>3</th>\n",
       "      <td>0.000997</td>\n",
       "      <td>0.000998</td>\n",
       "      <td>0.806452</td>\n",
       "      <td>0.780488</td>\n",
       "      <td>0.769231</td>\n",
       "      <td>0.755556</td>\n",
       "      <td>0.769231</td>\n",
       "      <td>0.680000</td>\n",
       "    </tr>\n",
       "    <tr>\n",
       "      <th>4</th>\n",
       "      <td>0.000997</td>\n",
       "      <td>0.000998</td>\n",
       "      <td>0.800000</td>\n",
       "      <td>0.806452</td>\n",
       "      <td>0.800000</td>\n",
       "      <td>0.813953</td>\n",
       "      <td>0.666667</td>\n",
       "      <td>0.686275</td>\n",
       "    </tr>\n",
       "  </tbody>\n",
       "</table>\n",
       "</div>"
      ],
      "text/plain": [
       "   fit_time  score_time  test_accuracy  train_accuracy  test_precision  \\\n",
       "0  0.000997    0.000998       0.774194        0.813008        0.727273   \n",
       "1  0.000998    0.000997       0.709677        0.821138        0.700000   \n",
       "2  0.000998    0.000997       0.774194        0.813008        0.714286   \n",
       "3  0.000997    0.000998       0.806452        0.780488        0.769231   \n",
       "4  0.000997    0.000998       0.800000        0.806452        0.800000   \n",
       "\n",
       "   train_precision  test_recall  train_recall  \n",
       "0         0.818182     0.666667      0.705882  \n",
       "1         0.791667     0.538462      0.760000  \n",
       "2         0.800000     0.769231      0.720000  \n",
       "3         0.755556     0.769231      0.680000  \n",
       "4         0.813953     0.666667      0.686275  "
      ]
     },
     "execution_count": 37,
     "metadata": {},
     "output_type": "execute_result"
    }
   ],
   "source": [
    "nb_score_df"
   ]
  },
  {
   "cell_type": "code",
   "execution_count": 15,
   "metadata": {},
   "outputs": [
    {
     "data": {
      "text/html": [
       "<div>\n",
       "<style scoped>\n",
       "    .dataframe tbody tr th:only-of-type {\n",
       "        vertical-align: middle;\n",
       "    }\n",
       "\n",
       "    .dataframe tbody tr th {\n",
       "        vertical-align: top;\n",
       "    }\n",
       "\n",
       "    .dataframe thead th {\n",
       "        text-align: right;\n",
       "    }\n",
       "</style>\n",
       "<table border=\"1\" class=\"dataframe\">\n",
       "  <thead>\n",
       "    <tr style=\"text-align: right;\">\n",
       "      <th></th>\n",
       "      <th>fit_time</th>\n",
       "      <th>score_time</th>\n",
       "      <th>test_accuracy</th>\n",
       "      <th>train_accuracy</th>\n",
       "      <th>test_precision</th>\n",
       "      <th>train_precision</th>\n",
       "      <th>test_recall</th>\n",
       "      <th>train_recall</th>\n",
       "    </tr>\n",
       "  </thead>\n",
       "  <tbody>\n",
       "    <tr>\n",
       "      <td>1</td>\n",
       "      <td>0.001304</td>\n",
       "      <td>0.006226</td>\n",
       "      <td>0.625000</td>\n",
       "      <td>0.778689</td>\n",
       "      <td>0.461538</td>\n",
       "      <td>0.682927</td>\n",
       "      <td>0.545455</td>\n",
       "      <td>0.666667</td>\n",
       "    </tr>\n",
       "    <tr>\n",
       "      <td>2</td>\n",
       "      <td>0.000780</td>\n",
       "      <td>0.002366</td>\n",
       "      <td>0.838710</td>\n",
       "      <td>0.731707</td>\n",
       "      <td>0.800000</td>\n",
       "      <td>0.604651</td>\n",
       "      <td>0.727273</td>\n",
       "      <td>0.619048</td>\n",
       "    </tr>\n",
       "    <tr>\n",
       "      <td>3</td>\n",
       "      <td>0.000882</td>\n",
       "      <td>0.004701</td>\n",
       "      <td>0.741935</td>\n",
       "      <td>0.764228</td>\n",
       "      <td>0.636364</td>\n",
       "      <td>0.658537</td>\n",
       "      <td>0.636364</td>\n",
       "      <td>0.642857</td>\n",
       "    </tr>\n",
       "    <tr>\n",
       "      <td>4</td>\n",
       "      <td>0.000984</td>\n",
       "      <td>0.002193</td>\n",
       "      <td>0.766667</td>\n",
       "      <td>0.782258</td>\n",
       "      <td>0.615385</td>\n",
       "      <td>0.690476</td>\n",
       "      <td>0.800000</td>\n",
       "      <td>0.674419</td>\n",
       "    </tr>\n",
       "    <tr>\n",
       "      <td>5</td>\n",
       "      <td>0.000619</td>\n",
       "      <td>0.002058</td>\n",
       "      <td>0.666667</td>\n",
       "      <td>0.766129</td>\n",
       "      <td>0.500000</td>\n",
       "      <td>0.659091</td>\n",
       "      <td>0.200000</td>\n",
       "      <td>0.674419</td>\n",
       "    </tr>\n",
       "  </tbody>\n",
       "</table>\n",
       "</div>"
      ],
      "text/plain": [
       "   fit_time  score_time  test_accuracy  train_accuracy  test_precision  \\\n",
       "1  0.001304    0.006226       0.625000        0.778689        0.461538   \n",
       "2  0.000780    0.002366       0.838710        0.731707        0.800000   \n",
       "3  0.000882    0.004701       0.741935        0.764228        0.636364   \n",
       "4  0.000984    0.002193       0.766667        0.782258        0.615385   \n",
       "5  0.000619    0.002058       0.666667        0.766129        0.500000   \n",
       "\n",
       "   train_precision  test_recall  train_recall  \n",
       "1         0.682927     0.545455      0.666667  \n",
       "2         0.604651     0.727273      0.619048  \n",
       "3         0.658537     0.636364      0.642857  \n",
       "4         0.690476     0.800000      0.674419  \n",
       "5         0.659091     0.200000      0.674419  "
      ]
     },
     "execution_count": 15,
     "metadata": {},
     "output_type": "execute_result"
    }
   ],
   "source": [
    "#Hasil cross validation berupa dictionary. Kemudian dictionary disimpan menjadi dataframe. Hanya untuk keperluan pembacaan\n",
    "df_scores = pd.DataFrame.from_dict(scores)\n",
    "df_scores.index +=1\n",
    "df_scores"
   ]
  },
  {
   "cell_type": "code",
   "execution_count": 42,
   "metadata": {},
   "outputs": [],
   "source": [
    "#DUMP MODEL\n",
    "pickle.dump(knn_clf, open('model_knn.pkl','wb'))"
   ]
  },
  {
   "cell_type": "code",
   "execution_count": 43,
   "metadata": {},
   "outputs": [
    {
     "data": {
      "text/plain": [
       "array([1], dtype=int64)"
      ]
     },
     "execution_count": 43,
     "metadata": {},
     "output_type": "execute_result"
    }
   ],
   "source": [
    "sample = np.array([6,148,72,35,0,34,1,50])\n",
    "knn_clf.predict(sample.reshape(1,-1))"
   ]
  },
  {
   "cell_type": "code",
   "execution_count": 44,
   "metadata": {},
   "outputs": [
    {
     "data": {
      "text/plain": [
       "array([[0.4, 0.6]])"
      ]
     },
     "execution_count": 44,
     "metadata": {},
     "output_type": "execute_result"
    }
   ],
   "source": [
    "knn_clf.predict_proba(sample.reshape(1,-1))"
   ]
  },
  {
   "cell_type": "code",
   "execution_count": 45,
   "metadata": {},
   "outputs": [],
   "source": [
    "y_pred = knn_clf.predict(np_data)\n",
    "tn, fp, fn, tp = confusion_matrix(np_target, y_pred).ravel()"
   ]
  },
  {
   "cell_type": "code",
   "execution_count": 46,
   "metadata": {},
   "outputs": [
    {
     "name": "stdout",
     "output_type": "stream",
     "text": [
      "0.7864583333333334 0.7280701754385965 0.6194029850746269\n"
     ]
    }
   ],
   "source": [
    "acc = accuracy_score(np_target, y_pred)\n",
    "prec= precision_score(np_target, y_pred)\n",
    "recall = recall_score(np_target, y_pred)\n",
    "\n",
    "print(acc, prec, recall)"
   ]
  }
 ],
 "metadata": {
  "kernelspec": {
   "display_name": "Python 3 (ipykernel)",
   "language": "python",
   "name": "python3"
  },
  "language_info": {
   "codemirror_mode": {
    "name": "ipython",
    "version": 3
   },
   "file_extension": ".py",
   "mimetype": "text/x-python",
   "name": "python",
   "nbconvert_exporter": "python",
   "pygments_lexer": "ipython3",
   "version": "3.10.2"
  }
 },
 "nbformat": 4,
 "nbformat_minor": 4
}
